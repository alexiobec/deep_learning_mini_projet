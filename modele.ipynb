{
 "cells": [
  {
   "cell_type": "code",
   "execution_count": 44,
   "metadata": {},
   "outputs": [
    {
     "name": "stdout",
     "output_type": "stream",
     "text": [
      "Index(['date', 'position', 'fr_gb', 'gb_fr', 'fr_cwe', 'cwe_fr', 'fr_ch',\n",
      "       'ch_fr', 'fr_it', 'it_fr', 'fr_es', 'es_fr', 'export_france',\n",
      "       'import_france'],\n",
      "      dtype='object')\n"
     ]
    }
   ],
   "source": [
    "import pandas as pd\n",
    "\n",
    "df = pd.read_csv(\"imports-exports-commerciaux.csv\",sep=\";\")\n",
    "print(df.columns)"
   ]
  },
  {
   "cell_type": "code",
   "execution_count": 45,
   "metadata": {},
   "outputs": [
    {
     "data": {
      "text/html": [
       "<div>\n",
       "<style scoped>\n",
       "    .dataframe tbody tr th:only-of-type {\n",
       "        vertical-align: middle;\n",
       "    }\n",
       "\n",
       "    .dataframe tbody tr th {\n",
       "        vertical-align: top;\n",
       "    }\n",
       "\n",
       "    .dataframe thead th {\n",
       "        text-align: right;\n",
       "    }\n",
       "</style>\n",
       "<table border=\"1\" class=\"dataframe\">\n",
       "  <thead>\n",
       "    <tr style=\"text-align: right;\">\n",
       "      <th></th>\n",
       "      <th>date</th>\n",
       "      <th>position</th>\n",
       "      <th>fr_gb</th>\n",
       "      <th>gb_fr</th>\n",
       "      <th>fr_cwe</th>\n",
       "      <th>cwe_fr</th>\n",
       "      <th>fr_ch</th>\n",
       "      <th>ch_fr</th>\n",
       "      <th>fr_it</th>\n",
       "      <th>it_fr</th>\n",
       "      <th>fr_es</th>\n",
       "      <th>es_fr</th>\n",
       "      <th>export_france</th>\n",
       "      <th>import_france</th>\n",
       "      <th>timestamp</th>\n",
       "    </tr>\n",
       "  </thead>\n",
       "  <tbody>\n",
       "    <tr>\n",
       "      <th>0</th>\n",
       "      <td>2010-09-15</td>\n",
       "      <td>10.0</td>\n",
       "      <td>25.0</td>\n",
       "      <td>-384.0</td>\n",
       "      <td>591.0</td>\n",
       "      <td>-2055.0</td>\n",
       "      <td>3017.0</td>\n",
       "      <td>-1898.0</td>\n",
       "      <td>2403.0</td>\n",
       "      <td>0.0</td>\n",
       "      <td>200.0</td>\n",
       "      <td>-568.0</td>\n",
       "      <td>6236.0</td>\n",
       "      <td>-4905.0</td>\n",
       "      <td>2010-09-15-10</td>\n",
       "    </tr>\n",
       "    <tr>\n",
       "      <th>1</th>\n",
       "      <td>2010-09-15</td>\n",
       "      <td>12.0</td>\n",
       "      <td>25.0</td>\n",
       "      <td>-125.0</td>\n",
       "      <td>271.0</td>\n",
       "      <td>-2253.0</td>\n",
       "      <td>3067.0</td>\n",
       "      <td>-2104.0</td>\n",
       "      <td>2404.0</td>\n",
       "      <td>0.0</td>\n",
       "      <td>19.0</td>\n",
       "      <td>-399.0</td>\n",
       "      <td>5786.0</td>\n",
       "      <td>-4881.0</td>\n",
       "      <td>2010-09-15-12</td>\n",
       "    </tr>\n",
       "    <tr>\n",
       "      <th>2</th>\n",
       "      <td>2010-09-15</td>\n",
       "      <td>14.0</td>\n",
       "      <td>45.0</td>\n",
       "      <td>-76.0</td>\n",
       "      <td>304.0</td>\n",
       "      <td>-2734.0</td>\n",
       "      <td>3046.0</td>\n",
       "      <td>-2052.0</td>\n",
       "      <td>2404.0</td>\n",
       "      <td>0.0</td>\n",
       "      <td>203.0</td>\n",
       "      <td>-361.0</td>\n",
       "      <td>6002.0</td>\n",
       "      <td>-5223.0</td>\n",
       "      <td>2010-09-15-14</td>\n",
       "    </tr>\n",
       "    <tr>\n",
       "      <th>3</th>\n",
       "      <td>2010-09-15</td>\n",
       "      <td>16.0</td>\n",
       "      <td>25.0</td>\n",
       "      <td>-296.0</td>\n",
       "      <td>333.0</td>\n",
       "      <td>-2257.0</td>\n",
       "      <td>3067.0</td>\n",
       "      <td>-975.0</td>\n",
       "      <td>2404.0</td>\n",
       "      <td>0.0</td>\n",
       "      <td>203.0</td>\n",
       "      <td>-221.0</td>\n",
       "      <td>6032.0</td>\n",
       "      <td>-3749.0</td>\n",
       "      <td>2010-09-15-16</td>\n",
       "    </tr>\n",
       "    <tr>\n",
       "      <th>4</th>\n",
       "      <td>2010-09-15</td>\n",
       "      <td>17.0</td>\n",
       "      <td>293.0</td>\n",
       "      <td>-305.0</td>\n",
       "      <td>392.0</td>\n",
       "      <td>-2468.0</td>\n",
       "      <td>3031.0</td>\n",
       "      <td>-656.0</td>\n",
       "      <td>2404.0</td>\n",
       "      <td>0.0</td>\n",
       "      <td>203.0</td>\n",
       "      <td>-263.0</td>\n",
       "      <td>6323.0</td>\n",
       "      <td>-3692.0</td>\n",
       "      <td>2010-09-15-17</td>\n",
       "    </tr>\n",
       "    <tr>\n",
       "      <th>...</th>\n",
       "      <td>...</td>\n",
       "      <td>...</td>\n",
       "      <td>...</td>\n",
       "      <td>...</td>\n",
       "      <td>...</td>\n",
       "      <td>...</td>\n",
       "      <td>...</td>\n",
       "      <td>...</td>\n",
       "      <td>...</td>\n",
       "      <td>...</td>\n",
       "      <td>...</td>\n",
       "      <td>...</td>\n",
       "      <td>...</td>\n",
       "      <td>...</td>\n",
       "      <td>...</td>\n",
       "    </tr>\n",
       "    <tr>\n",
       "      <th>149011</th>\n",
       "      <td>2015-04-08</td>\n",
       "      <td>4.0</td>\n",
       "      <td>2000.0</td>\n",
       "      <td>0.0</td>\n",
       "      <td>2361.5</td>\n",
       "      <td>-3085.0</td>\n",
       "      <td>2896.2</td>\n",
       "      <td>-1028.8</td>\n",
       "      <td>1699.0</td>\n",
       "      <td>-36.0</td>\n",
       "      <td>0.0</td>\n",
       "      <td>-900.0</td>\n",
       "      <td>8956.0</td>\n",
       "      <td>-5049.0</td>\n",
       "      <td>2015-04-08-04</td>\n",
       "    </tr>\n",
       "    <tr>\n",
       "      <th>149012</th>\n",
       "      <td>2015-04-08</td>\n",
       "      <td>11.0</td>\n",
       "      <td>1999.0</td>\n",
       "      <td>-16.0</td>\n",
       "      <td>2214.3</td>\n",
       "      <td>-3639.0</td>\n",
       "      <td>3241.5</td>\n",
       "      <td>-2196.5</td>\n",
       "      <td>783.0</td>\n",
       "      <td>-757.0</td>\n",
       "      <td>0.0</td>\n",
       "      <td>-100.0</td>\n",
       "      <td>8237.0</td>\n",
       "      <td>-6708.0</td>\n",
       "      <td>2015-04-08-11</td>\n",
       "    </tr>\n",
       "    <tr>\n",
       "      <th>149013</th>\n",
       "      <td>2015-04-08</td>\n",
       "      <td>19.0</td>\n",
       "      <td>2000.0</td>\n",
       "      <td>0.0</td>\n",
       "      <td>2398.6</td>\n",
       "      <td>-3032.0</td>\n",
       "      <td>3616.9</td>\n",
       "      <td>-1167.6</td>\n",
       "      <td>3175.0</td>\n",
       "      <td>-50.0</td>\n",
       "      <td>277.0</td>\n",
       "      <td>-100.0</td>\n",
       "      <td>11466.0</td>\n",
       "      <td>-4349.0</td>\n",
       "      <td>2015-04-08-19</td>\n",
       "    </tr>\n",
       "    <tr>\n",
       "      <th>149014</th>\n",
       "      <td>2015-04-08</td>\n",
       "      <td>21.0</td>\n",
       "      <td>2000.0</td>\n",
       "      <td>0.0</td>\n",
       "      <td>3588.8</td>\n",
       "      <td>-3634.2</td>\n",
       "      <td>3951.0</td>\n",
       "      <td>-1967.8</td>\n",
       "      <td>3152.0</td>\n",
       "      <td>-9.0</td>\n",
       "      <td>0.0</td>\n",
       "      <td>-100.0</td>\n",
       "      <td>12691.0</td>\n",
       "      <td>-5710.0</td>\n",
       "      <td>2015-04-08-21</td>\n",
       "    </tr>\n",
       "    <tr>\n",
       "      <th>149015</th>\n",
       "      <td>2015-04-08</td>\n",
       "      <td>24.0</td>\n",
       "      <td>2000.0</td>\n",
       "      <td>0.0</td>\n",
       "      <td>2342.1</td>\n",
       "      <td>-3290.0</td>\n",
       "      <td>2945.3</td>\n",
       "      <td>-1463.5</td>\n",
       "      <td>812.0</td>\n",
       "      <td>-80.0</td>\n",
       "      <td>517.0</td>\n",
       "      <td>-100.0</td>\n",
       "      <td>8616.0</td>\n",
       "      <td>-4933.0</td>\n",
       "      <td>2015-04-08-24</td>\n",
       "    </tr>\n",
       "  </tbody>\n",
       "</table>\n",
       "<p>149016 rows × 15 columns</p>\n",
       "</div>"
      ],
      "text/plain": [
       "              date  position   fr_gb  gb_fr  fr_cwe  cwe_fr   fr_ch   ch_fr  \\\n",
       "0       2010-09-15      10.0    25.0 -384.0   591.0 -2055.0  3017.0 -1898.0   \n",
       "1       2010-09-15      12.0    25.0 -125.0   271.0 -2253.0  3067.0 -2104.0   \n",
       "2       2010-09-15      14.0    45.0  -76.0   304.0 -2734.0  3046.0 -2052.0   \n",
       "3       2010-09-15      16.0    25.0 -296.0   333.0 -2257.0  3067.0  -975.0   \n",
       "4       2010-09-15      17.0   293.0 -305.0   392.0 -2468.0  3031.0  -656.0   \n",
       "...            ...       ...     ...    ...     ...     ...     ...     ...   \n",
       "149011  2015-04-08       4.0  2000.0    0.0  2361.5 -3085.0  2896.2 -1028.8   \n",
       "149012  2015-04-08      11.0  1999.0  -16.0  2214.3 -3639.0  3241.5 -2196.5   \n",
       "149013  2015-04-08      19.0  2000.0    0.0  2398.6 -3032.0  3616.9 -1167.6   \n",
       "149014  2015-04-08      21.0  2000.0    0.0  3588.8 -3634.2  3951.0 -1967.8   \n",
       "149015  2015-04-08      24.0  2000.0    0.0  2342.1 -3290.0  2945.3 -1463.5   \n",
       "\n",
       "         fr_it  it_fr  fr_es  es_fr  export_france  import_france  \\\n",
       "0       2403.0    0.0  200.0 -568.0         6236.0        -4905.0   \n",
       "1       2404.0    0.0   19.0 -399.0         5786.0        -4881.0   \n",
       "2       2404.0    0.0  203.0 -361.0         6002.0        -5223.0   \n",
       "3       2404.0    0.0  203.0 -221.0         6032.0        -3749.0   \n",
       "4       2404.0    0.0  203.0 -263.0         6323.0        -3692.0   \n",
       "...        ...    ...    ...    ...            ...            ...   \n",
       "149011  1699.0  -36.0    0.0 -900.0         8956.0        -5049.0   \n",
       "149012   783.0 -757.0    0.0 -100.0         8237.0        -6708.0   \n",
       "149013  3175.0  -50.0  277.0 -100.0        11466.0        -4349.0   \n",
       "149014  3152.0   -9.0    0.0 -100.0        12691.0        -5710.0   \n",
       "149015   812.0  -80.0  517.0 -100.0         8616.0        -4933.0   \n",
       "\n",
       "            timestamp  \n",
       "0       2010-09-15-10  \n",
       "1       2010-09-15-12  \n",
       "2       2010-09-15-14  \n",
       "3       2010-09-15-16  \n",
       "4       2010-09-15-17  \n",
       "...               ...  \n",
       "149011  2015-04-08-04  \n",
       "149012  2015-04-08-11  \n",
       "149013  2015-04-08-19  \n",
       "149014  2015-04-08-21  \n",
       "149015  2015-04-08-24  \n",
       "\n",
       "[149016 rows x 15 columns]"
      ]
     },
     "execution_count": 45,
     "metadata": {},
     "output_type": "execute_result"
    }
   ],
   "source": [
    "# On reformate la date et l'heure en combinant les colonnes \"date\" et \"position\" (qui représente l'heure) dans une seule colonne timestamp\n",
    "from datetime import datetime\n",
    "def heure(n) :\n",
    "    if n < 10 :\n",
    "        return f\"0{int(n)}\"\n",
    "    else :\n",
    "        return str(int(n))\n",
    "\n",
    "df[\"timestamp\"] = df[\"date\"]+ \"-\"+ df[\"position\"].map(heure)\n",
    "df"
   ]
  },
  {
   "cell_type": "code",
   "execution_count": 46,
   "metadata": {},
   "outputs": [],
   "source": [
    "# On enlève les colonnes qui ne nous intéressent pas, c'est à dire toutes celles concernant l'échange spécifique entre la france et un seul autre pays, étant donné que les colonnes imports et exports sont la somme de ces valeurs\n",
    "df = df.drop([\"fr_gb\",\"gb_fr\",\"fr_cwe\",\"cwe_fr\",\"fr_ch\",\"ch_fr\",\"fr_it\",\"it_fr\",\"fr_es\",\"es_fr\",\"date\",\"position\",\"import_france\"],axis=1)"
   ]
  },
  {
   "cell_type": "code",
   "execution_count": 47,
   "metadata": {},
   "outputs": [
    {
     "name": "stdout",
     "output_type": "stream",
     "text": [
      "        export_france      timestamp\n",
      "87081         13024.0  2021-12-30-19\n",
      "111596        13459.0  2021-12-30-20\n",
      "86233         14033.0  2021-12-30-21\n",
      "32925         12965.0  2021-12-30-22\n",
      "144207        11875.0  2021-12-30-23\n",
      "87086         12004.0  2021-12-30-24\n",
      "87091         11131.0  2021-12-31-01\n",
      "111601        10888.0  2021-12-31-02\n",
      "32930         10836.0  2021-12-31-03\n",
      "111606        10681.0  2021-12-31-04\n",
      "111611        10340.0  2021-12-31-05\n",
      "32935         10162.0  2021-12-31-06\n",
      "86238         10230.0  2021-12-31-07\n",
      "87096         10499.0  2021-12-31-08\n",
      "32940         11210.0  2021-12-31-09\n",
      "111616        10328.0  2021-12-31-10\n",
      "87101          9919.0  2021-12-31-11\n",
      "87106         11022.0  2021-12-31-12\n",
      "111621        11106.0  2021-12-31-13\n",
      "144212        11456.0  2021-12-31-14\n",
      "86243          9635.0  2021-12-31-15\n",
      "87111          9554.0  2021-12-31-16\n",
      "111626         8474.0  2021-12-31-17\n",
      "87116          8742.0  2021-12-31-18\n",
      "86248         10430.0  2021-12-31-19\n",
      "32945         10484.0  2021-12-31-20\n",
      "32950         11895.0  2021-12-31-21\n",
      "86253         12731.0  2021-12-31-22\n",
      "87121         10313.0  2021-12-31-23\n",
      "32955          9666.0  2021-12-31-24\n"
     ]
    }
   ],
   "source": [
    "df = df.sort_values(by=\"timestamp\")\n",
    "print(df[-30:])"
   ]
  },
  {
   "cell_type": "code",
   "execution_count": 48,
   "metadata": {},
   "outputs": [
    {
     "name": "stdout",
     "output_type": "stream",
     "text": [
      "Il y a des doublons dans les dates : False\n",
      "nombre de dates attendues : 149016\n",
      "nombre de valeurs réel : 149016\n"
     ]
    }
   ],
   "source": [
    "# Teste si toutes les valeurs sont présentes\n",
    "Liste = sorted(df[\"timestamp\"].tolist())\n",
    "i=0\n",
    "booleen = False\n",
    "while i < len(Liste)-1 and not booleen:\n",
    "    if Liste[i] == Liste[i+1]:\n",
    "        print(Liste[i])\n",
    "        booleen = True\n",
    "    i+=1\n",
    "print(\"Il y a des doublons dans les dates : \"+str(booleen))\n",
    "#On calcule le nombre de dates attendues, \n",
    "#comme on sait qu'il n'y a pas de doublons, \n",
    "# si la taille de la liste est le nombre de valeurs attendues, \n",
    "# alors il ne manque aucune données\n",
    "j_par_mois = [31,28,31,30,31,30,31,31,30,31,30,31]\n",
    "nbr_29_fevrier = 4 #nombre d'années bissextiles entre 2005 et 2022\n",
    "nbr_valeurs_attendu = (sum(j_par_mois)*(2022-2005)+nbr_29_fevrier)*24\n",
    "\n",
    "print(f\"nombre de dates attendues : {nbr_valeurs_attendu}\\nnombre de valeurs réel : {len(Liste)}\")"
   ]
  },
  {
   "cell_type": "code",
   "execution_count": 49,
   "metadata": {},
   "outputs": [
    {
     "name": "stdout",
     "output_type": "stream",
     "text": [
      "31748.0\n",
      "45.0\n"
     ]
    }
   ],
   "source": [
    "print(df[\"export_france\"].max())\n",
    "print(df[\"export_france\"].min())"
   ]
  },
  {
   "attachments": {},
   "cell_type": "markdown",
   "metadata": {},
   "source": [
    "# Traitement des données"
   ]
  },
  {
   "cell_type": "code",
   "execution_count": 50,
   "metadata": {},
   "outputs": [],
   "source": [
    "# Imports\n",
    "\n",
    "import numpy as np\n",
    "import torch\n",
    "import torch.nn as nn\n",
    "import math as m\n",
    "import matplotlib.pyplot as plt\n",
    "import plotly.graph_objects as go\n",
    "import sys\n",
    "import copy"
   ]
  },
  {
   "cell_type": "code",
   "execution_count": 51,
   "metadata": {},
   "outputs": [],
   "source": [
    "# Variables globales\n",
    "\n",
    "h = 10\n",
    "nepochs = 1\n",
    "dn = 50000.\n",
    "nout = 1\n",
    "ker = 7\n"
   ]
  },
  {
   "cell_type": "code",
   "execution_count": 61,
   "metadata": {},
   "outputs": [],
   "source": [
    "# Tranformer les données en dataloader\n",
    "\n",
    "exports = np.array(df[\"export_france\"].tolist())/dn\n",
    "\n",
    "# On sépare les données \n",
    "#          train : 2005-2017\n",
    "#          validation : 2018-2019\n",
    "#          test : 2020-2021\n",
    "\n",
    "train_nbr = (sum(j_par_mois)*(2018-2005)+nbr_29_fevrier-1)*24\n",
    "\n",
    "validation_nbr = train_nbr +  (sum(j_par_mois)*(2020-2018))*24\n",
    "test_nbr = validation_nbr + (sum(j_par_mois)*(2022-2020)+1)*24\n",
    "\n",
    "\n",
    "train = exports[:train_nbr]\n",
    "validation = exports[train_nbr:validation_nbr]\n",
    "test = exports[validation_nbr:]\n",
    "\n",
    "def xety(data) :\n",
    "    data_jour = torch.Tensor(data).view(-1,24)\n",
    "    x = data_jour[:-1].view(1, 24, -1)\n",
    "    y = data_jour[7:].view(1, -1, 24)\n",
    "    return x,y\n",
    "\n",
    "trainx,trainy = xety(train)\n",
    "validx,validy = xety(validation)\n",
    "testx,testy = xety(test)\n",
    "\n",
    "# trainx = 1, seqlen, 1\n",
    "# trainy = 1, seqlen, 1\n",
    "trainds = torch.utils.data.TensorDataset(trainx, trainy)\n",
    "trainloader = torch.utils.data.DataLoader(trainds, batch_size=1, shuffle=False)\n",
    "validds = torch.utils.data.TensorDataset(validx, validy)\n",
    "validloader = torch.utils.data.DataLoader(validds, batch_size=1, shuffle=False)\n",
    "testds = torch.utils.data.TensorDataset(testx, testy)\n",
    "testloader = torch.utils.data.DataLoader(testds, batch_size=1, shuffle=False)\n",
    "\n"
   ]
  },
  {
   "attachments": {},
   "cell_type": "markdown",
   "metadata": {},
   "source": [
    "# Modèle"
   ]
  },
  {
   "cell_type": "code",
   "execution_count": 68,
   "metadata": {},
   "outputs": [
    {
     "data": {
      "application/vnd.plotly.v1+json": {
       "config": {
        "plotlyServerURL": "https://plot.ly"
       },
       "data": [
        {
         "mode": "lines",
         "name": "Training loss",
         "type": "scatter",
         "x": [
          0,
          1,
          2,
          3,
          4,
          5,
          6,
          7,
          8,
          9,
          10,
          11,
          12,
          13,
          14,
          15,
          16,
          17,
          18,
          19,
          20,
          21,
          22,
          23,
          24,
          25,
          26,
          27,
          28,
          29,
          30,
          31,
          32,
          33,
          34,
          35,
          36,
          37,
          38,
          39
         ],
         "y": [
          0.10755084455013275,
          0.07495009154081345,
          0.05341457203030586,
          0.038468409329652786,
          0.02743271365761757,
          0.019265854731202126,
          0.013476327061653137,
          0.009635006077587605,
          0.00728857796639204,
          0.006052042357623577,
          0.005579855293035507,
          0.0055291359312832355,
          0.005587425082921982,
          0.005521823652088642,
          0.005243597086519003,
          0.0048005711287260056,
          0.004289968870580196,
          0.0037987849209457636,
          0.0033914169762283564,
          0.003108080243691802,
          0.0029528664890676737,
          0.002893612254410982,
          0.0028803269378840923,
          0.0028655228670686483,
          0.002817309694364667,
          0.002725060097873211,
          0.002595277735963464,
          0.0024424332659691572,
          0.0022823524195700884,
          0.0021294783800840378,
          0.0019951609428972006,
          0.0018858971307054162,
          0.0018036763649433851,
          0.0017484648851677775,
          0.0017192695522680879,
          0.0017121589044108987,
          0.001718538929708302,
          0.0017271918477490544,
          0.0017287111841142178,
          0.001718459534458816
         ]
        },
        {
         "mode": "lines",
         "name": "Test loss",
         "type": "scatter",
         "x": [
          0,
          1,
          2,
          3,
          4,
          5,
          6,
          7,
          8,
          9,
          10,
          11,
          12,
          13,
          14,
          15,
          16,
          17,
          18,
          19,
          20,
          21,
          22,
          23,
          24,
          25,
          26,
          27,
          28,
          29,
          30,
          31,
          32,
          33,
          34,
          35,
          36,
          37,
          38,
          39
         ],
         "y": [
          0.11272957921028137,
          0.07977698743343353,
          0.057985469698905945,
          0.0427764467895031,
          0.03145211189985275,
          0.022968443110585213,
          0.016839470714330673,
          0.012650077231228352,
          0.00996778067201376,
          0.008424256928265095,
          0.007687395438551903,
          0.007425760384649038,
          0.007335968315601349,
          0.0071890149265527725,
          0.006889016833156347,
          0.006463818717747927,
          0.005990158300846815,
          0.0055406405590474606,
          0.005174840334802866,
          0.004935090430080891,
          0.004829455632716417,
          0.004827434662729502,
          0.004876826424151659,
          0.004925045650452375,
          0.0049348254688084126,
          0.0048921722918748856,
          0.004802383482456207,
          0.004680391401052475,
          0.004543422255665064,
          0.004407184664160013,
          0.004283636808395386,
          0.004179500043392181,
          0.004097216296941042,
          0.004037846345454454,
          0.004001989029347897,
          0.00398722430691123,
          0.003985694609582424,
          0.0039856210350990295,
          0.003975932486355305,
          0.0039502098225057125
         ]
        }
       ],
       "layout": {
        "template": {
         "data": {
          "bar": [
           {
            "error_x": {
             "color": "#2a3f5f"
            },
            "error_y": {
             "color": "#2a3f5f"
            },
            "marker": {
             "line": {
              "color": "#E5ECF6",
              "width": 0.5
             },
             "pattern": {
              "fillmode": "overlay",
              "size": 10,
              "solidity": 0.2
             }
            },
            "type": "bar"
           }
          ],
          "barpolar": [
           {
            "marker": {
             "line": {
              "color": "#E5ECF6",
              "width": 0.5
             },
             "pattern": {
              "fillmode": "overlay",
              "size": 10,
              "solidity": 0.2
             }
            },
            "type": "barpolar"
           }
          ],
          "carpet": [
           {
            "aaxis": {
             "endlinecolor": "#2a3f5f",
             "gridcolor": "white",
             "linecolor": "white",
             "minorgridcolor": "white",
             "startlinecolor": "#2a3f5f"
            },
            "baxis": {
             "endlinecolor": "#2a3f5f",
             "gridcolor": "white",
             "linecolor": "white",
             "minorgridcolor": "white",
             "startlinecolor": "#2a3f5f"
            },
            "type": "carpet"
           }
          ],
          "choropleth": [
           {
            "colorbar": {
             "outlinewidth": 0,
             "ticks": ""
            },
            "type": "choropleth"
           }
          ],
          "contour": [
           {
            "colorbar": {
             "outlinewidth": 0,
             "ticks": ""
            },
            "colorscale": [
             [
              0,
              "#0d0887"
             ],
             [
              0.1111111111111111,
              "#46039f"
             ],
             [
              0.2222222222222222,
              "#7201a8"
             ],
             [
              0.3333333333333333,
              "#9c179e"
             ],
             [
              0.4444444444444444,
              "#bd3786"
             ],
             [
              0.5555555555555556,
              "#d8576b"
             ],
             [
              0.6666666666666666,
              "#ed7953"
             ],
             [
              0.7777777777777778,
              "#fb9f3a"
             ],
             [
              0.8888888888888888,
              "#fdca26"
             ],
             [
              1,
              "#f0f921"
             ]
            ],
            "type": "contour"
           }
          ],
          "contourcarpet": [
           {
            "colorbar": {
             "outlinewidth": 0,
             "ticks": ""
            },
            "type": "contourcarpet"
           }
          ],
          "heatmap": [
           {
            "colorbar": {
             "outlinewidth": 0,
             "ticks": ""
            },
            "colorscale": [
             [
              0,
              "#0d0887"
             ],
             [
              0.1111111111111111,
              "#46039f"
             ],
             [
              0.2222222222222222,
              "#7201a8"
             ],
             [
              0.3333333333333333,
              "#9c179e"
             ],
             [
              0.4444444444444444,
              "#bd3786"
             ],
             [
              0.5555555555555556,
              "#d8576b"
             ],
             [
              0.6666666666666666,
              "#ed7953"
             ],
             [
              0.7777777777777778,
              "#fb9f3a"
             ],
             [
              0.8888888888888888,
              "#fdca26"
             ],
             [
              1,
              "#f0f921"
             ]
            ],
            "type": "heatmap"
           }
          ],
          "heatmapgl": [
           {
            "colorbar": {
             "outlinewidth": 0,
             "ticks": ""
            },
            "colorscale": [
             [
              0,
              "#0d0887"
             ],
             [
              0.1111111111111111,
              "#46039f"
             ],
             [
              0.2222222222222222,
              "#7201a8"
             ],
             [
              0.3333333333333333,
              "#9c179e"
             ],
             [
              0.4444444444444444,
              "#bd3786"
             ],
             [
              0.5555555555555556,
              "#d8576b"
             ],
             [
              0.6666666666666666,
              "#ed7953"
             ],
             [
              0.7777777777777778,
              "#fb9f3a"
             ],
             [
              0.8888888888888888,
              "#fdca26"
             ],
             [
              1,
              "#f0f921"
             ]
            ],
            "type": "heatmapgl"
           }
          ],
          "histogram": [
           {
            "marker": {
             "pattern": {
              "fillmode": "overlay",
              "size": 10,
              "solidity": 0.2
             }
            },
            "type": "histogram"
           }
          ],
          "histogram2d": [
           {
            "colorbar": {
             "outlinewidth": 0,
             "ticks": ""
            },
            "colorscale": [
             [
              0,
              "#0d0887"
             ],
             [
              0.1111111111111111,
              "#46039f"
             ],
             [
              0.2222222222222222,
              "#7201a8"
             ],
             [
              0.3333333333333333,
              "#9c179e"
             ],
             [
              0.4444444444444444,
              "#bd3786"
             ],
             [
              0.5555555555555556,
              "#d8576b"
             ],
             [
              0.6666666666666666,
              "#ed7953"
             ],
             [
              0.7777777777777778,
              "#fb9f3a"
             ],
             [
              0.8888888888888888,
              "#fdca26"
             ],
             [
              1,
              "#f0f921"
             ]
            ],
            "type": "histogram2d"
           }
          ],
          "histogram2dcontour": [
           {
            "colorbar": {
             "outlinewidth": 0,
             "ticks": ""
            },
            "colorscale": [
             [
              0,
              "#0d0887"
             ],
             [
              0.1111111111111111,
              "#46039f"
             ],
             [
              0.2222222222222222,
              "#7201a8"
             ],
             [
              0.3333333333333333,
              "#9c179e"
             ],
             [
              0.4444444444444444,
              "#bd3786"
             ],
             [
              0.5555555555555556,
              "#d8576b"
             ],
             [
              0.6666666666666666,
              "#ed7953"
             ],
             [
              0.7777777777777778,
              "#fb9f3a"
             ],
             [
              0.8888888888888888,
              "#fdca26"
             ],
             [
              1,
              "#f0f921"
             ]
            ],
            "type": "histogram2dcontour"
           }
          ],
          "mesh3d": [
           {
            "colorbar": {
             "outlinewidth": 0,
             "ticks": ""
            },
            "type": "mesh3d"
           }
          ],
          "parcoords": [
           {
            "line": {
             "colorbar": {
              "outlinewidth": 0,
              "ticks": ""
             }
            },
            "type": "parcoords"
           }
          ],
          "pie": [
           {
            "automargin": true,
            "type": "pie"
           }
          ],
          "scatter": [
           {
            "fillpattern": {
             "fillmode": "overlay",
             "size": 10,
             "solidity": 0.2
            },
            "type": "scatter"
           }
          ],
          "scatter3d": [
           {
            "line": {
             "colorbar": {
              "outlinewidth": 0,
              "ticks": ""
             }
            },
            "marker": {
             "colorbar": {
              "outlinewidth": 0,
              "ticks": ""
             }
            },
            "type": "scatter3d"
           }
          ],
          "scattercarpet": [
           {
            "marker": {
             "colorbar": {
              "outlinewidth": 0,
              "ticks": ""
             }
            },
            "type": "scattercarpet"
           }
          ],
          "scattergeo": [
           {
            "marker": {
             "colorbar": {
              "outlinewidth": 0,
              "ticks": ""
             }
            },
            "type": "scattergeo"
           }
          ],
          "scattergl": [
           {
            "marker": {
             "colorbar": {
              "outlinewidth": 0,
              "ticks": ""
             }
            },
            "type": "scattergl"
           }
          ],
          "scattermapbox": [
           {
            "marker": {
             "colorbar": {
              "outlinewidth": 0,
              "ticks": ""
             }
            },
            "type": "scattermapbox"
           }
          ],
          "scatterpolar": [
           {
            "marker": {
             "colorbar": {
              "outlinewidth": 0,
              "ticks": ""
             }
            },
            "type": "scatterpolar"
           }
          ],
          "scatterpolargl": [
           {
            "marker": {
             "colorbar": {
              "outlinewidth": 0,
              "ticks": ""
             }
            },
            "type": "scatterpolargl"
           }
          ],
          "scatterternary": [
           {
            "marker": {
             "colorbar": {
              "outlinewidth": 0,
              "ticks": ""
             }
            },
            "type": "scatterternary"
           }
          ],
          "surface": [
           {
            "colorbar": {
             "outlinewidth": 0,
             "ticks": ""
            },
            "colorscale": [
             [
              0,
              "#0d0887"
             ],
             [
              0.1111111111111111,
              "#46039f"
             ],
             [
              0.2222222222222222,
              "#7201a8"
             ],
             [
              0.3333333333333333,
              "#9c179e"
             ],
             [
              0.4444444444444444,
              "#bd3786"
             ],
             [
              0.5555555555555556,
              "#d8576b"
             ],
             [
              0.6666666666666666,
              "#ed7953"
             ],
             [
              0.7777777777777778,
              "#fb9f3a"
             ],
             [
              0.8888888888888888,
              "#fdca26"
             ],
             [
              1,
              "#f0f921"
             ]
            ],
            "type": "surface"
           }
          ],
          "table": [
           {
            "cells": {
             "fill": {
              "color": "#EBF0F8"
             },
             "line": {
              "color": "white"
             }
            },
            "header": {
             "fill": {
              "color": "#C8D4E3"
             },
             "line": {
              "color": "white"
             }
            },
            "type": "table"
           }
          ]
         },
         "layout": {
          "annotationdefaults": {
           "arrowcolor": "#2a3f5f",
           "arrowhead": 0,
           "arrowwidth": 1
          },
          "autotypenumbers": "strict",
          "coloraxis": {
           "colorbar": {
            "outlinewidth": 0,
            "ticks": ""
           }
          },
          "colorscale": {
           "diverging": [
            [
             0,
             "#8e0152"
            ],
            [
             0.1,
             "#c51b7d"
            ],
            [
             0.2,
             "#de77ae"
            ],
            [
             0.3,
             "#f1b6da"
            ],
            [
             0.4,
             "#fde0ef"
            ],
            [
             0.5,
             "#f7f7f7"
            ],
            [
             0.6,
             "#e6f5d0"
            ],
            [
             0.7,
             "#b8e186"
            ],
            [
             0.8,
             "#7fbc41"
            ],
            [
             0.9,
             "#4d9221"
            ],
            [
             1,
             "#276419"
            ]
           ],
           "sequential": [
            [
             0,
             "#0d0887"
            ],
            [
             0.1111111111111111,
             "#46039f"
            ],
            [
             0.2222222222222222,
             "#7201a8"
            ],
            [
             0.3333333333333333,
             "#9c179e"
            ],
            [
             0.4444444444444444,
             "#bd3786"
            ],
            [
             0.5555555555555556,
             "#d8576b"
            ],
            [
             0.6666666666666666,
             "#ed7953"
            ],
            [
             0.7777777777777778,
             "#fb9f3a"
            ],
            [
             0.8888888888888888,
             "#fdca26"
            ],
            [
             1,
             "#f0f921"
            ]
           ],
           "sequentialminus": [
            [
             0,
             "#0d0887"
            ],
            [
             0.1111111111111111,
             "#46039f"
            ],
            [
             0.2222222222222222,
             "#7201a8"
            ],
            [
             0.3333333333333333,
             "#9c179e"
            ],
            [
             0.4444444444444444,
             "#bd3786"
            ],
            [
             0.5555555555555556,
             "#d8576b"
            ],
            [
             0.6666666666666666,
             "#ed7953"
            ],
            [
             0.7777777777777778,
             "#fb9f3a"
            ],
            [
             0.8888888888888888,
             "#fdca26"
            ],
            [
             1,
             "#f0f921"
            ]
           ]
          },
          "colorway": [
           "#636efa",
           "#EF553B",
           "#00cc96",
           "#ab63fa",
           "#FFA15A",
           "#19d3f3",
           "#FF6692",
           "#B6E880",
           "#FF97FF",
           "#FECB52"
          ],
          "font": {
           "color": "#2a3f5f"
          },
          "geo": {
           "bgcolor": "white",
           "lakecolor": "white",
           "landcolor": "#E5ECF6",
           "showlakes": true,
           "showland": true,
           "subunitcolor": "white"
          },
          "hoverlabel": {
           "align": "left"
          },
          "hovermode": "closest",
          "mapbox": {
           "style": "light"
          },
          "paper_bgcolor": "white",
          "plot_bgcolor": "#E5ECF6",
          "polar": {
           "angularaxis": {
            "gridcolor": "white",
            "linecolor": "white",
            "ticks": ""
           },
           "bgcolor": "#E5ECF6",
           "radialaxis": {
            "gridcolor": "white",
            "linecolor": "white",
            "ticks": ""
           }
          },
          "scene": {
           "xaxis": {
            "backgroundcolor": "#E5ECF6",
            "gridcolor": "white",
            "gridwidth": 2,
            "linecolor": "white",
            "showbackground": true,
            "ticks": "",
            "zerolinecolor": "white"
           },
           "yaxis": {
            "backgroundcolor": "#E5ECF6",
            "gridcolor": "white",
            "gridwidth": 2,
            "linecolor": "white",
            "showbackground": true,
            "ticks": "",
            "zerolinecolor": "white"
           },
           "zaxis": {
            "backgroundcolor": "#E5ECF6",
            "gridcolor": "white",
            "gridwidth": 2,
            "linecolor": "white",
            "showbackground": true,
            "ticks": "",
            "zerolinecolor": "white"
           }
          },
          "shapedefaults": {
           "line": {
            "color": "#2a3f5f"
           }
          },
          "ternary": {
           "aaxis": {
            "gridcolor": "white",
            "linecolor": "white",
            "ticks": ""
           },
           "baxis": {
            "gridcolor": "white",
            "linecolor": "white",
            "ticks": ""
           },
           "bgcolor": "#E5ECF6",
           "caxis": {
            "gridcolor": "white",
            "linecolor": "white",
            "ticks": ""
           }
          },
          "title": {
           "x": 0.05
          },
          "xaxis": {
           "automargin": true,
           "gridcolor": "white",
           "linecolor": "white",
           "ticks": "",
           "title": {
            "standoff": 15
           },
           "zerolinecolor": "white",
           "zerolinewidth": 2
          },
          "yaxis": {
           "automargin": true,
           "gridcolor": "white",
           "linecolor": "white",
           "ticks": "",
           "title": {
            "standoff": 15
           },
           "zerolinecolor": "white",
           "zerolinewidth": 2
          }
         }
        },
        "title": {
         "text": "Loss de training et de test"
        },
        "xaxis": {
         "title": {
          "text": "Epoque"
         }
        },
        "yaxis": {
         "title": {
          "text": "Loss"
         }
        }
       }
      },
      "text/html": [
       "<div>                            <div id=\"f5d576b5-4a97-43dd-bbe6-c9cc5e07a997\" class=\"plotly-graph-div\" style=\"height:525px; width:100%;\"></div>            <script type=\"text/javascript\">                require([\"plotly\"], function(Plotly) {                    window.PLOTLYENV=window.PLOTLYENV || {};                                    if (document.getElementById(\"f5d576b5-4a97-43dd-bbe6-c9cc5e07a997\")) {                    Plotly.newPlot(                        \"f5d576b5-4a97-43dd-bbe6-c9cc5e07a997\",                        [{\"mode\":\"lines\",\"name\":\"Training loss\",\"x\":[0,1,2,3,4,5,6,7,8,9,10,11,12,13,14,15,16,17,18,19,20,21,22,23,24,25,26,27,28,29,30,31,32,33,34,35,36,37,38,39],\"y\":[0.10755084455013275,0.07495009154081345,0.05341457203030586,0.038468409329652786,0.02743271365761757,0.019265854731202126,0.013476327061653137,0.009635006077587605,0.00728857796639204,0.006052042357623577,0.005579855293035507,0.0055291359312832355,0.005587425082921982,0.005521823652088642,0.005243597086519003,0.0048005711287260056,0.004289968870580196,0.0037987849209457636,0.0033914169762283564,0.003108080243691802,0.0029528664890676737,0.002893612254410982,0.0028803269378840923,0.0028655228670686483,0.002817309694364667,0.002725060097873211,0.002595277735963464,0.0024424332659691572,0.0022823524195700884,0.0021294783800840378,0.0019951609428972006,0.0018858971307054162,0.0018036763649433851,0.0017484648851677775,0.0017192695522680879,0.0017121589044108987,0.001718538929708302,0.0017271918477490544,0.0017287111841142178,0.001718459534458816],\"type\":\"scatter\"},{\"mode\":\"lines\",\"name\":\"Test loss\",\"x\":[0,1,2,3,4,5,6,7,8,9,10,11,12,13,14,15,16,17,18,19,20,21,22,23,24,25,26,27,28,29,30,31,32,33,34,35,36,37,38,39],\"y\":[0.11272957921028137,0.07977698743343353,0.057985469698905945,0.0427764467895031,0.03145211189985275,0.022968443110585213,0.016839470714330673,0.012650077231228352,0.00996778067201376,0.008424256928265095,0.007687395438551903,0.007425760384649038,0.007335968315601349,0.0071890149265527725,0.006889016833156347,0.006463818717747927,0.005990158300846815,0.0055406405590474606,0.005174840334802866,0.004935090430080891,0.004829455632716417,0.004827434662729502,0.004876826424151659,0.004925045650452375,0.0049348254688084126,0.0048921722918748856,0.004802383482456207,0.004680391401052475,0.004543422255665064,0.004407184664160013,0.004283636808395386,0.004179500043392181,0.004097216296941042,0.004037846345454454,0.004001989029347897,0.00398722430691123,0.003985694609582424,0.0039856210350990295,0.003975932486355305,0.0039502098225057125],\"type\":\"scatter\"}],                        {\"template\":{\"data\":{\"histogram2dcontour\":[{\"type\":\"histogram2dcontour\",\"colorbar\":{\"outlinewidth\":0,\"ticks\":\"\"},\"colorscale\":[[0.0,\"#0d0887\"],[0.1111111111111111,\"#46039f\"],[0.2222222222222222,\"#7201a8\"],[0.3333333333333333,\"#9c179e\"],[0.4444444444444444,\"#bd3786\"],[0.5555555555555556,\"#d8576b\"],[0.6666666666666666,\"#ed7953\"],[0.7777777777777778,\"#fb9f3a\"],[0.8888888888888888,\"#fdca26\"],[1.0,\"#f0f921\"]]}],\"choropleth\":[{\"type\":\"choropleth\",\"colorbar\":{\"outlinewidth\":0,\"ticks\":\"\"}}],\"histogram2d\":[{\"type\":\"histogram2d\",\"colorbar\":{\"outlinewidth\":0,\"ticks\":\"\"},\"colorscale\":[[0.0,\"#0d0887\"],[0.1111111111111111,\"#46039f\"],[0.2222222222222222,\"#7201a8\"],[0.3333333333333333,\"#9c179e\"],[0.4444444444444444,\"#bd3786\"],[0.5555555555555556,\"#d8576b\"],[0.6666666666666666,\"#ed7953\"],[0.7777777777777778,\"#fb9f3a\"],[0.8888888888888888,\"#fdca26\"],[1.0,\"#f0f921\"]]}],\"heatmap\":[{\"type\":\"heatmap\",\"colorbar\":{\"outlinewidth\":0,\"ticks\":\"\"},\"colorscale\":[[0.0,\"#0d0887\"],[0.1111111111111111,\"#46039f\"],[0.2222222222222222,\"#7201a8\"],[0.3333333333333333,\"#9c179e\"],[0.4444444444444444,\"#bd3786\"],[0.5555555555555556,\"#d8576b\"],[0.6666666666666666,\"#ed7953\"],[0.7777777777777778,\"#fb9f3a\"],[0.8888888888888888,\"#fdca26\"],[1.0,\"#f0f921\"]]}],\"heatmapgl\":[{\"type\":\"heatmapgl\",\"colorbar\":{\"outlinewidth\":0,\"ticks\":\"\"},\"colorscale\":[[0.0,\"#0d0887\"],[0.1111111111111111,\"#46039f\"],[0.2222222222222222,\"#7201a8\"],[0.3333333333333333,\"#9c179e\"],[0.4444444444444444,\"#bd3786\"],[0.5555555555555556,\"#d8576b\"],[0.6666666666666666,\"#ed7953\"],[0.7777777777777778,\"#fb9f3a\"],[0.8888888888888888,\"#fdca26\"],[1.0,\"#f0f921\"]]}],\"contourcarpet\":[{\"type\":\"contourcarpet\",\"colorbar\":{\"outlinewidth\":0,\"ticks\":\"\"}}],\"contour\":[{\"type\":\"contour\",\"colorbar\":{\"outlinewidth\":0,\"ticks\":\"\"},\"colorscale\":[[0.0,\"#0d0887\"],[0.1111111111111111,\"#46039f\"],[0.2222222222222222,\"#7201a8\"],[0.3333333333333333,\"#9c179e\"],[0.4444444444444444,\"#bd3786\"],[0.5555555555555556,\"#d8576b\"],[0.6666666666666666,\"#ed7953\"],[0.7777777777777778,\"#fb9f3a\"],[0.8888888888888888,\"#fdca26\"],[1.0,\"#f0f921\"]]}],\"surface\":[{\"type\":\"surface\",\"colorbar\":{\"outlinewidth\":0,\"ticks\":\"\"},\"colorscale\":[[0.0,\"#0d0887\"],[0.1111111111111111,\"#46039f\"],[0.2222222222222222,\"#7201a8\"],[0.3333333333333333,\"#9c179e\"],[0.4444444444444444,\"#bd3786\"],[0.5555555555555556,\"#d8576b\"],[0.6666666666666666,\"#ed7953\"],[0.7777777777777778,\"#fb9f3a\"],[0.8888888888888888,\"#fdca26\"],[1.0,\"#f0f921\"]]}],\"mesh3d\":[{\"type\":\"mesh3d\",\"colorbar\":{\"outlinewidth\":0,\"ticks\":\"\"}}],\"scatter\":[{\"fillpattern\":{\"fillmode\":\"overlay\",\"size\":10,\"solidity\":0.2},\"type\":\"scatter\"}],\"parcoords\":[{\"type\":\"parcoords\",\"line\":{\"colorbar\":{\"outlinewidth\":0,\"ticks\":\"\"}}}],\"scatterpolargl\":[{\"type\":\"scatterpolargl\",\"marker\":{\"colorbar\":{\"outlinewidth\":0,\"ticks\":\"\"}}}],\"bar\":[{\"error_x\":{\"color\":\"#2a3f5f\"},\"error_y\":{\"color\":\"#2a3f5f\"},\"marker\":{\"line\":{\"color\":\"#E5ECF6\",\"width\":0.5},\"pattern\":{\"fillmode\":\"overlay\",\"size\":10,\"solidity\":0.2}},\"type\":\"bar\"}],\"scattergeo\":[{\"type\":\"scattergeo\",\"marker\":{\"colorbar\":{\"outlinewidth\":0,\"ticks\":\"\"}}}],\"scatterpolar\":[{\"type\":\"scatterpolar\",\"marker\":{\"colorbar\":{\"outlinewidth\":0,\"ticks\":\"\"}}}],\"histogram\":[{\"marker\":{\"pattern\":{\"fillmode\":\"overlay\",\"size\":10,\"solidity\":0.2}},\"type\":\"histogram\"}],\"scattergl\":[{\"type\":\"scattergl\",\"marker\":{\"colorbar\":{\"outlinewidth\":0,\"ticks\":\"\"}}}],\"scatter3d\":[{\"type\":\"scatter3d\",\"line\":{\"colorbar\":{\"outlinewidth\":0,\"ticks\":\"\"}},\"marker\":{\"colorbar\":{\"outlinewidth\":0,\"ticks\":\"\"}}}],\"scattermapbox\":[{\"type\":\"scattermapbox\",\"marker\":{\"colorbar\":{\"outlinewidth\":0,\"ticks\":\"\"}}}],\"scatterternary\":[{\"type\":\"scatterternary\",\"marker\":{\"colorbar\":{\"outlinewidth\":0,\"ticks\":\"\"}}}],\"scattercarpet\":[{\"type\":\"scattercarpet\",\"marker\":{\"colorbar\":{\"outlinewidth\":0,\"ticks\":\"\"}}}],\"carpet\":[{\"aaxis\":{\"endlinecolor\":\"#2a3f5f\",\"gridcolor\":\"white\",\"linecolor\":\"white\",\"minorgridcolor\":\"white\",\"startlinecolor\":\"#2a3f5f\"},\"baxis\":{\"endlinecolor\":\"#2a3f5f\",\"gridcolor\":\"white\",\"linecolor\":\"white\",\"minorgridcolor\":\"white\",\"startlinecolor\":\"#2a3f5f\"},\"type\":\"carpet\"}],\"table\":[{\"cells\":{\"fill\":{\"color\":\"#EBF0F8\"},\"line\":{\"color\":\"white\"}},\"header\":{\"fill\":{\"color\":\"#C8D4E3\"},\"line\":{\"color\":\"white\"}},\"type\":\"table\"}],\"barpolar\":[{\"marker\":{\"line\":{\"color\":\"#E5ECF6\",\"width\":0.5},\"pattern\":{\"fillmode\":\"overlay\",\"size\":10,\"solidity\":0.2}},\"type\":\"barpolar\"}],\"pie\":[{\"automargin\":true,\"type\":\"pie\"}]},\"layout\":{\"autotypenumbers\":\"strict\",\"colorway\":[\"#636efa\",\"#EF553B\",\"#00cc96\",\"#ab63fa\",\"#FFA15A\",\"#19d3f3\",\"#FF6692\",\"#B6E880\",\"#FF97FF\",\"#FECB52\"],\"font\":{\"color\":\"#2a3f5f\"},\"hovermode\":\"closest\",\"hoverlabel\":{\"align\":\"left\"},\"paper_bgcolor\":\"white\",\"plot_bgcolor\":\"#E5ECF6\",\"polar\":{\"bgcolor\":\"#E5ECF6\",\"angularaxis\":{\"gridcolor\":\"white\",\"linecolor\":\"white\",\"ticks\":\"\"},\"radialaxis\":{\"gridcolor\":\"white\",\"linecolor\":\"white\",\"ticks\":\"\"}},\"ternary\":{\"bgcolor\":\"#E5ECF6\",\"aaxis\":{\"gridcolor\":\"white\",\"linecolor\":\"white\",\"ticks\":\"\"},\"baxis\":{\"gridcolor\":\"white\",\"linecolor\":\"white\",\"ticks\":\"\"},\"caxis\":{\"gridcolor\":\"white\",\"linecolor\":\"white\",\"ticks\":\"\"}},\"coloraxis\":{\"colorbar\":{\"outlinewidth\":0,\"ticks\":\"\"}},\"colorscale\":{\"sequential\":[[0.0,\"#0d0887\"],[0.1111111111111111,\"#46039f\"],[0.2222222222222222,\"#7201a8\"],[0.3333333333333333,\"#9c179e\"],[0.4444444444444444,\"#bd3786\"],[0.5555555555555556,\"#d8576b\"],[0.6666666666666666,\"#ed7953\"],[0.7777777777777778,\"#fb9f3a\"],[0.8888888888888888,\"#fdca26\"],[1.0,\"#f0f921\"]],\"sequentialminus\":[[0.0,\"#0d0887\"],[0.1111111111111111,\"#46039f\"],[0.2222222222222222,\"#7201a8\"],[0.3333333333333333,\"#9c179e\"],[0.4444444444444444,\"#bd3786\"],[0.5555555555555556,\"#d8576b\"],[0.6666666666666666,\"#ed7953\"],[0.7777777777777778,\"#fb9f3a\"],[0.8888888888888888,\"#fdca26\"],[1.0,\"#f0f921\"]],\"diverging\":[[0,\"#8e0152\"],[0.1,\"#c51b7d\"],[0.2,\"#de77ae\"],[0.3,\"#f1b6da\"],[0.4,\"#fde0ef\"],[0.5,\"#f7f7f7\"],[0.6,\"#e6f5d0\"],[0.7,\"#b8e186\"],[0.8,\"#7fbc41\"],[0.9,\"#4d9221\"],[1,\"#276419\"]]},\"xaxis\":{\"gridcolor\":\"white\",\"linecolor\":\"white\",\"ticks\":\"\",\"title\":{\"standoff\":15},\"zerolinecolor\":\"white\",\"automargin\":true,\"zerolinewidth\":2},\"yaxis\":{\"gridcolor\":\"white\",\"linecolor\":\"white\",\"ticks\":\"\",\"title\":{\"standoff\":15},\"zerolinecolor\":\"white\",\"automargin\":true,\"zerolinewidth\":2},\"scene\":{\"xaxis\":{\"backgroundcolor\":\"#E5ECF6\",\"gridcolor\":\"white\",\"linecolor\":\"white\",\"showbackground\":true,\"ticks\":\"\",\"zerolinecolor\":\"white\",\"gridwidth\":2},\"yaxis\":{\"backgroundcolor\":\"#E5ECF6\",\"gridcolor\":\"white\",\"linecolor\":\"white\",\"showbackground\":true,\"ticks\":\"\",\"zerolinecolor\":\"white\",\"gridwidth\":2},\"zaxis\":{\"backgroundcolor\":\"#E5ECF6\",\"gridcolor\":\"white\",\"linecolor\":\"white\",\"showbackground\":true,\"ticks\":\"\",\"zerolinecolor\":\"white\",\"gridwidth\":2}},\"shapedefaults\":{\"line\":{\"color\":\"#2a3f5f\"}},\"annotationdefaults\":{\"arrowcolor\":\"#2a3f5f\",\"arrowhead\":0,\"arrowwidth\":1},\"geo\":{\"bgcolor\":\"white\",\"landcolor\":\"#E5ECF6\",\"subunitcolor\":\"white\",\"showland\":true,\"showlakes\":true,\"lakecolor\":\"white\"},\"title\":{\"x\":0.05},\"mapbox\":{\"style\":\"light\"}}},\"title\":{\"text\":\"Loss de training et de test\"},\"xaxis\":{\"title\":{\"text\":\"Epoque\"}},\"yaxis\":{\"title\":{\"text\":\"Loss\"}}},                        {\"responsive\": true}                    ).then(function(){\n",
       "                            \n",
       "var gd = document.getElementById('f5d576b5-4a97-43dd-bbe6-c9cc5e07a997');\n",
       "var x = new MutationObserver(function (mutations, observer) {{\n",
       "        var display = window.getComputedStyle(gd).display;\n",
       "        if (!display || display === 'none') {{\n",
       "            console.log([gd, 'removed!']);\n",
       "            Plotly.purge(gd);\n",
       "            observer.disconnect();\n",
       "        }}\n",
       "}});\n",
       "\n",
       "// Listen for the removal of the full notebook cells\n",
       "var notebookContainer = gd.closest('#notebook-container');\n",
       "if (notebookContainer) {{\n",
       "    x.observe(notebookContainer, {childList: true});\n",
       "}}\n",
       "\n",
       "// Listen for the clearing of the current output cell\n",
       "var outputEl = gd.closest('.output');\n",
       "if (outputEl) {{\n",
       "    x.observe(outputEl, {childList: true});\n",
       "}}\n",
       "\n",
       "                        })                };                });            </script>        </div>"
      ]
     },
     "metadata": {},
     "output_type": "display_data"
    }
   ],
   "source": [
    "\n",
    "class Mod(nn.Module):\n",
    "    def __init__(self,num_rnn=3,cnn_size=3):\n",
    "        super(Mod, self).__init__()\n",
    "        nbr_cnn = { \"2\":6, #nombres de layer pour avoir un champ récepteur de 7\n",
    "                    \"3\":3,\n",
    "                    \"4\":2,\n",
    "                    \"7\":1}\n",
    "        layer = nn.Sequential(nn.Conv1d(24, 24, cnn_size, stride=1),\n",
    "                              nn.Sigmoid())\n",
    "        self.cnn = nn.Sequential(*([layer]*nbr_cnn[str(cnn_size)]))\n",
    "        self.rnn = nn.Sequential(nn.RNN(24, 24, num_layers=num_rnn))\n",
    "    def forward(self, x):\n",
    "        # x.shape = (1,351,7) -> (N,Hin,L)\n",
    "        # cnn needs (N,L,Hin) (B,D,T)(batch,time,dim)\n",
    "        # 1 724 1 \n",
    "        xx = x.view(1,24,-1)\n",
    "        y = self.cnn(xx)\n",
    "        yy = y.view(1,-1,24)\n",
    "        z,h= self.rnn(yy)\n",
    "        # y.shape = (1,1,346)\n",
    "        return z\n",
    "\n",
    "\n",
    "def test(mod):\n",
    "    mod.train(False)\n",
    "    totloss, nbatch = 0., 0\n",
    "    for data in testloader:\n",
    "        inputs, goldy = data\n",
    "        haty = mod(inputs)\n",
    "        loss = crit(haty, goldy)\n",
    "        totloss += loss.item()\n",
    "        nbatch += 1\n",
    "    totloss /= float(nbatch)\n",
    "    mod.train(True)\n",
    "    return totloss\n",
    "\n",
    "\n",
    "def validate(mod):\n",
    "    mod.train(False)\n",
    "    totloss, nbatch = 0., 0\n",
    "    for data in validloader:\n",
    "        inputs, goldy = data\n",
    "        haty = mod(inputs)\n",
    "        loss = crit(haty, goldy)\n",
    "        totloss += loss.item()\n",
    "        nbatch += 1\n",
    "    totloss /= float(nbatch)\n",
    "    mod.train(True)\n",
    "    return totloss\n",
    "\n",
    "def train(mod, nepochs, lr,testdata=True):\n",
    "    optim = torch.optim.Adam(mod.parameters(), lr=lr)\n",
    "    tab_train_loss = []\n",
    "    tab_test_loss = []\n",
    "    for epoch in range(nepochs):\n",
    "        if testdata :\n",
    "            testloss = test(mod)\n",
    "        else :    \n",
    "            testloss = validate(mod)\n",
    "        totloss, nbatch = 0., 0\n",
    "        for data in trainloader:\n",
    "            inputs, goldy = data\n",
    "            optim.zero_grad()\n",
    "            haty = mod(inputs)\n",
    "            loss = crit(haty, goldy)\n",
    "            totloss += loss.item()\n",
    "            nbatch += 1\n",
    "            loss.backward()\n",
    "            optim.step()\n",
    "        totloss /= float(nbatch)\n",
    "        tab_train_loss.append(totloss)\n",
    "        tab_test_loss.append(testloss)\n",
    "        # print(\"err\", totloss, testloss)\n",
    "    # print(\"fin\", totloss, testloss, file=sys.stderr)\n",
    "    return tab_train_loss, tab_test_loss\n",
    "\n",
    "\n",
    "if __name__ == \"__main__\":\n",
    "    crit = nn.MSELoss()\n",
    "    tab_value = []\n",
    "    tab_loss = []\n",
    "    n_epochs = 40\n",
    "    lr = 0.005\n",
    "    num_rnn = 2\n",
    "    nbr_cnn = 3\n",
    "    fig = go.Figure()\n",
    "    model = Mod(num_rnn, nbr_cnn)\n",
    "    trainloss, testloss = train(model, n_epochs, lr=lr)\n",
    "    fig.add_trace(go.Scatter(y=np.array(trainloss), x=np.arange(len(trainloss)),\n",
    "                            mode='lines', name=f\"Training loss\"))\n",
    "    fig.add_trace(go.Scatter(y=np.array(testloss), x=np.arange(len(testloss)),\n",
    "                            mode='lines', name=f\"Test loss\"))\n",
    "    fig.update_layout(\n",
    "        title=f\"Loss de training et de test\",\n",
    "        xaxis_title=\"Epoque\",\n",
    "        yaxis_title=\"Loss\"\n",
    "    )\n",
    "    fig.show()\n",
    "\n",
    "\n"
   ]
  },
  {
   "cell_type": "code",
   "execution_count": 54,
   "metadata": {},
   "outputs": [
    {
     "name": "stdout",
     "output_type": "stream",
     "text": [
      "torch.Size([20, 33, 4])\n"
     ]
    },
    {
     "data": {
      "text/plain": [
       "(24,)"
      ]
     },
     "execution_count": 54,
     "metadata": {},
     "output_type": "execute_result"
    }
   ],
   "source": [
    "# Fenetere de test\n",
    "m = nn.Conv1d(16, 33, 3, stride=2)\n",
    "input = torch.randn(20, 16, 10)\n",
    "output = m(input)\n",
    "print(output.shape)\n",
    "\n",
    "24,"
   ]
  }
 ],
 "metadata": {
  "kernelspec": {
   "display_name": "Python 3",
   "language": "python",
   "name": "python3"
  },
  "language_info": {
   "codemirror_mode": {
    "name": "ipython",
    "version": 3
   },
   "file_extension": ".py",
   "mimetype": "text/x-python",
   "name": "python",
   "nbconvert_exporter": "python",
   "pygments_lexer": "ipython3",
   "version": "3.8.10 (default, Jun 22 2022, 20:18:18) \n[GCC 9.4.0]"
  },
  "orig_nbformat": 4,
  "vscode": {
   "interpreter": {
    "hash": "767d51c1340bd893661ea55ea3124f6de3c7a262a8b4abca0554b478b1e2ff90"
   }
  }
 },
 "nbformat": 4,
 "nbformat_minor": 2
}
